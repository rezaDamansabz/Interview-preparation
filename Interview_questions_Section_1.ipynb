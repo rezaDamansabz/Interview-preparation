{
  "nbformat": 4,
  "nbformat_minor": 0,
  "metadata": {
    "colab": {
      "provenance": [],
      "authorship_tag": "ABX9TyNPn8i5Y886CkXtfyFVYHQS",
      "include_colab_link": true
    },
    "kernelspec": {
      "name": "python3",
      "display_name": "Python 3"
    },
    "language_info": {
      "name": "python"
    }
  },
  "cells": [
    {
      "cell_type": "markdown",
      "metadata": {
        "id": "view-in-github",
        "colab_type": "text"
      },
      "source": [
        "<a href=\"https://colab.research.google.com/github/rezaDamansabz/Interview-preparation/blob/main/Interview_questions_Section_1.ipynb\" target=\"_parent\"><img src=\"https://colab.research.google.com/assets/colab-badge.svg\" alt=\"Open In Colab\"/></a>"
      ]
    },
    {
      "cell_type": "markdown",
      "source": [
        "# Simple questions"
      ],
      "metadata": {
        "id": "PHlDtKETXd3m"
      }
    },
    {
      "cell_type": "markdown",
      "source": [
        "### Importing libraries"
      ],
      "metadata": {
        "id": "MeSOZEBHXq6o"
      }
    },
    {
      "cell_type": "code",
      "source": [
        "import numpy as np\n",
        "import pandas as pd"
      ],
      "metadata": {
        "id": "kz_LyWmTXjkQ"
      },
      "execution_count": 2,
      "outputs": []
    },
    {
      "cell_type": "markdown",
      "source": [
        "### Question 1: Palindrome\n",
        "Write a Python function is_palindrome(s) that returns True if the string s is a palindrome (reads the same forward and backward) and False otherwise."
      ],
      "metadata": {
        "id": "nseTbk9AZ1bo"
      }
    },
    {
      "cell_type": "code",
      "source": [
        "def is_palindrome(s):\n",
        "    #s = str(s)\n",
        "    s = s.lower()\n",
        "    if s.isalnum() == False:\n",
        "      return print('the name is not a string')\n",
        "    return s == s[::-1]"
      ],
      "metadata": {
        "id": "RJHeLJIYXoAW"
      },
      "execution_count": 2,
      "outputs": []
    },
    {
      "cell_type": "code",
      "source": [
        "print(is_palindrome('Aviva'))\n",
        "print(is_palindrome('Maman^'))"
      ],
      "metadata": {
        "colab": {
          "base_uri": "https://localhost:8080/"
        },
        "id": "00CbAf9-YrkB",
        "outputId": "82df2807-6f77-4c0e-dbcc-57be758bb25d"
      },
      "execution_count": 3,
      "outputs": [
        {
          "output_type": "stream",
          "name": "stdout",
          "text": [
            "True\n",
            "the name is not a string\n",
            "None\n"
          ]
        }
      ]
    },
    {
      "cell_type": "markdown",
      "source": [
        "### Question 2 : Count Vowels\n",
        "Write a Python function count_vowels(s) that counts the number of vowels (a, e, i, o, u) in a string s.\n",
        "\n",
        "It should ignore case (A and a both count).\n",
        "\n",
        "If the input is not a string, return 0."
      ],
      "metadata": {
        "id": "oH3ELP1WbPfG"
      }
    },
    {
      "cell_type": "code",
      "source": [
        "def count_vowels(s):\n",
        "  s = s.lower()\n",
        "  vowels = ['a', 'e', 'i', 'o', 'u']\n",
        "  count = 0\n",
        "  for char in s:\n",
        "    if char in vowels:\n",
        "      count += 1\n",
        "  return  count"
      ],
      "metadata": {
        "id": "-dyqo1MMbVv_"
      },
      "execution_count": 4,
      "outputs": []
    },
    {
      "cell_type": "markdown",
      "source": [],
      "metadata": {
        "id": "5jKLzH-8Z7Z6"
      }
    },
    {
      "cell_type": "code",
      "source": [
        "count_vowels('Aviva')"
      ],
      "metadata": {
        "colab": {
          "base_uri": "https://localhost:8080/"
        },
        "id": "lkPy16gKbwGy",
        "outputId": "144f755e-2b19-497c-fd76-4ef32f36de9b"
      },
      "execution_count": 5,
      "outputs": [
        {
          "output_type": "execute_result",
          "data": {
            "text/plain": [
              "3"
            ]
          },
          "metadata": {},
          "execution_count": 5
        }
      ]
    },
    {
      "cell_type": "markdown",
      "source": [
        "###Question 3: Find Douplicates\n",
        "Write a Python function find_duplicates(lst) that returns a list of all duplicate elements in a list lst.\n",
        "\n",
        "Each duplicate should appear only once in the output list.\n",
        "\n",
        "Order of elements in the output does not matter.\n",
        "\n",
        "If the input is not a list, return an empty list."
      ],
      "metadata": {
        "id": "ph5qOLEgdK2K"
      }
    },
    {
      "cell_type": "code",
      "source": [
        "def find_duplicates(lst):\n",
        "  seen = set()\n",
        "  duplicates = set()\n",
        "  if not isinstance(lst, list):\n",
        "    return []\n",
        "  for i in lst:\n",
        "    if i in seen:\n",
        "      duplicates.add(i)\n",
        "    else:\n",
        "      seen.add(i)\n",
        "  return list(duplicates)\n",
        "\n",
        "\n"
      ],
      "metadata": {
        "id": "LCo7UBlnbyGf"
      },
      "execution_count": 6,
      "outputs": []
    },
    {
      "cell_type": "code",
      "source": [
        "lst = ['apple', 'ali', 'baby', 'girl', 'ali', 1, 2, 1]\n",
        "find_duplicates(lst)"
      ],
      "metadata": {
        "colab": {
          "base_uri": "https://localhost:8080/"
        },
        "id": "llKQ9GrZdwXU",
        "outputId": "9a1fce6c-7c6a-4d95-a254-5bb34a458529"
      },
      "execution_count": 7,
      "outputs": [
        {
          "output_type": "execute_result",
          "data": {
            "text/plain": [
              "['ali', 1]"
            ]
          },
          "metadata": {},
          "execution_count": 7
        }
      ]
    },
    {
      "cell_type": "markdown",
      "source": [],
      "metadata": {
        "id": "RG4ydOQZoKT2"
      }
    },
    {
      "cell_type": "markdown",
      "source": [
        "### Question 4: Most Frequent\n",
        "Write a Python function most_frequent(lst) that returns the element that appears most frequently in a list lst.\n",
        "\n",
        "If multiple elements have the same highest frequency, return any one of them.\n",
        "\n",
        "If the list is empty or not a list, return None."
      ],
      "metadata": {
        "id": "pk79GsBaoLTe"
      }
    },
    {
      "cell_type": "code",
      "source": [
        "  def most_frequent(lst):\n",
        "    if not isinstance(lst, list):\n",
        "      return None\n",
        "    frequency = {}\n",
        "    for i in lst:\n",
        "      frequency[i] = frequency.get(i, 0) + 1\n",
        "    maxFrequency = max(frequency, key=frequency.get)\n",
        "    return maxFrequency"
      ],
      "metadata": {
        "id": "HjCWz7IuoNZ8"
      },
      "execution_count": 8,
      "outputs": []
    },
    {
      "cell_type": "code",
      "source": [
        "most_frequent([1,2,3,3,4,3,4,5,6,2,1,5,4,4,7])"
      ],
      "metadata": {
        "colab": {
          "base_uri": "https://localhost:8080/"
        },
        "id": "-mJyk0B68Afu",
        "outputId": "5247d5e7-888a-4c30-d525-652cfc0ce640"
      },
      "execution_count": 9,
      "outputs": [
        {
          "output_type": "execute_result",
          "data": {
            "text/plain": [
              "4"
            ]
          },
          "metadata": {},
          "execution_count": 9
        }
      ]
    },
    {
      "cell_type": "markdown",
      "source": [],
      "metadata": {
        "id": "8XL53_xe87Hc"
      }
    },
    {
      "cell_type": "markdown",
      "source": [
        "### Question 5 – Reverse Words in a String\n",
        "Write a function reverse_words(s) that reverses the order of words in a string. Words are separated by spaces."
      ],
      "metadata": {
        "id": "QMaPKk0f88Du"
      }
    },
    {
      "cell_type": "code",
      "source": [
        "def reverse_words(s):\n",
        "    if not isinstance(s, str):\n",
        "        return \"\"\n",
        "    words = s.split()\n",
        "    return \" \".join(words[::-1])"
      ],
      "metadata": {
        "id": "7Z5gfDu-8-ds"
      },
      "execution_count": 62,
      "outputs": []
    },
    {
      "cell_type": "code",
      "source": [
        "reverse_words('Alabama how are you doing ?')"
      ],
      "metadata": {
        "colab": {
          "base_uri": "https://localhost:8080/",
          "height": 36
        },
        "id": "jbyXvRV-9KWm",
        "outputId": "70620183-8f82-4351-9481-f766105a3969"
      },
      "execution_count": 63,
      "outputs": [
        {
          "output_type": "execute_result",
          "data": {
            "text/plain": [
              "'? doing you are how Alabama'"
            ],
            "application/vnd.google.colaboratory.intrinsic+json": {
              "type": "string"
            }
          },
          "metadata": {},
          "execution_count": 63
        }
      ]
    },
    {
      "cell_type": "markdown",
      "source": [
        "### Question 6 – Remove Duplicates from List\n",
        "Write a function remove_duplicates(lst) that returns a list with duplicates removed, preserving the original order."
      ],
      "metadata": {
        "id": "VAwm6gY_-iAH"
      }
    },
    {
      "cell_type": "code",
      "source": [
        "def remove_douplicates(lst):\n",
        "  if not isinstance(lst, list):\n",
        "    return \"please input a list\"\n",
        "  clnList = []\n",
        "  for i in lst:\n",
        "    if i not in clnList:\n",
        "      clnList.append(i)\n",
        "  return clnList\n"
      ],
      "metadata": {
        "id": "lE6CMlZP-jYF"
      },
      "execution_count": 12,
      "outputs": []
    },
    {
      "cell_type": "code",
      "source": [
        "remove_douplicates([1,2,1,2,3,4,3,2,5,6,4,5,6,7])"
      ],
      "metadata": {
        "colab": {
          "base_uri": "https://localhost:8080/"
        },
        "id": "DlGslUr3OwLd",
        "outputId": "7f3b78f7-faee-4ca5-fe0b-fe090d369721"
      },
      "execution_count": 13,
      "outputs": [
        {
          "output_type": "execute_result",
          "data": {
            "text/plain": [
              "[1, 2, 3, 4, 5, 6, 7]"
            ]
          },
          "metadata": {},
          "execution_count": 13
        }
      ]
    },
    {
      "cell_type": "markdown",
      "source": [
        "### Question 7 – FizzBuzz\n",
        "Write a function fizz_buzz(n) that returns a list of numbers from 1 to n where:\n",
        "\n",
        "Multiples of 3 → \"Fizz\"\n",
        "\n",
        "Multiples of 5 → \"Buzz\"\n",
        "\n",
        "Multiples of 15 → \"FizzBuzz\"\n",
        "\n",
        "Otherwise → the number itself"
      ],
      "metadata": {
        "id": "XINeCEBwTtJ2"
      }
    },
    {
      "cell_type": "code",
      "source": [
        "def fizz_buzz(n):\n",
        "  lst = []\n",
        "  if not isinstance(n,int):\n",
        "    return []\n",
        "  for i in range(1,n+1):\n",
        "    if i % 15 == 0:\n",
        "      lst.append('FizzBuzz')\n",
        "    elif i % 5 == 0:\n",
        "      lst.append('Buzz')\n",
        "    elif i % 3 == 0:\n",
        "      lst.append('Fizz')\n",
        "    else:\n",
        "      lst.append(i)\n",
        "  return lst"
      ],
      "metadata": {
        "id": "5RlV1liBTxq0"
      },
      "execution_count": 11,
      "outputs": []
    },
    {
      "cell_type": "code",
      "source": [
        "fizz_buzz(20)"
      ],
      "metadata": {
        "colab": {
          "base_uri": "https://localhost:8080/"
        },
        "id": "jUpfsA3YVRch",
        "outputId": "bc45772b-8db6-4870-daea-da72f96add39"
      },
      "execution_count": 12,
      "outputs": [
        {
          "output_type": "execute_result",
          "data": {
            "text/plain": [
              "[1,\n",
              " 2,\n",
              " 'Fizz',\n",
              " 4,\n",
              " 'Buzz',\n",
              " 'Fizz',\n",
              " 7,\n",
              " 8,\n",
              " 'Fizz',\n",
              " 'Buzz',\n",
              " 11,\n",
              " 'Fizz',\n",
              " 13,\n",
              " 14,\n",
              " 'FizzBuzz',\n",
              " 16,\n",
              " 17,\n",
              " 'Fizz',\n",
              " 19,\n",
              " 'Buzz']"
            ]
          },
          "metadata": {},
          "execution_count": 12
        }
      ]
    },
    {
      "cell_type": "code",
      "source": [],
      "metadata": {
        "id": "7KJWxtVYV7EB"
      },
      "execution_count": null,
      "outputs": []
    },
    {
      "cell_type": "markdown",
      "source": [
        "###Question 8 – Flatten a List of Lists\n",
        "Write a function flatten(lst) that takes a list of lists and returns a flat list."
      ],
      "metadata": {
        "id": "0uywJEANALHV"
      }
    },
    {
      "cell_type": "code",
      "source": [
        "def flatten1(lst):\n",
        "  if not isinstance(lst, list):\n",
        "    return []\n",
        "  fltList = []\n",
        "  for i in range(len(lst)):\n",
        "    if isinstance(lst[i],int) or isinstance(lst[i],str) or isinstance(lst[i],float):\n",
        "      fltList.append(lst[i])\n",
        "    elif isinstance(lst[i],list):\n",
        "      for j in range(len(lst[i])):\n",
        "        fltList.append(lst[i][j])\n",
        "  return fltList\n",
        "#------------------------------------------------------------------------------\n",
        "  def flatten(lst):\n",
        "    if not isinstance(lst, list):\n",
        "        return [lst]  # wrap single values into a list\n",
        "\n",
        "    fltList = []\n",
        "    for item in lst:\n",
        "        if isinstance(item, list):\n",
        "            fltList.extend(flatten(item))  # recursive flatten\n",
        "        else:\n",
        "            fltList.append(item)\n",
        "    return fltList"
      ],
      "metadata": {
        "id": "rhnajTFWAQks"
      },
      "execution_count": 30,
      "outputs": []
    },
    {
      "cell_type": "code",
      "source": [
        "print(flatten([1,2,3,4,[6,7,8],'a']))"
      ],
      "metadata": {
        "colab": {
          "base_uri": "https://localhost:8080/"
        },
        "id": "iKrRDMgMCsPx",
        "outputId": "4bed8588-4748-4f2b-f997-e232722de142"
      },
      "execution_count": 31,
      "outputs": [
        {
          "output_type": "stream",
          "name": "stdout",
          "text": [
            "[1, 2, 3, 4, 6, 7, 8, 'a']\n"
          ]
        }
      ]
    },
    {
      "cell_type": "markdown",
      "source": [
        "###Question 9 – Count Words in a String\n",
        "Write a function count_words(s) that returns a dictionary with each word as key and its frequency as value. Words are separated by spaces."
      ],
      "metadata": {
        "id": "hsh-eodJMdBo"
      }
    },
    {
      "cell_type": "code",
      "source": [
        "def count_words(s):\n",
        "  if not isinstance(s,str):\n",
        "    return {}\n",
        "  splt = s.lower().split()\n",
        "  cnt = {}\n",
        "  for i in splt:\n",
        "    cnt[i] = cnt.get(i,0)+1\n",
        "  return cnt"
      ],
      "metadata": {
        "id": "MDBcRjmjMeAV"
      },
      "execution_count": 43,
      "outputs": []
    },
    {
      "cell_type": "code",
      "source": [
        "count_words('Hello friend ! how how are you doing my good friend !')"
      ],
      "metadata": {
        "colab": {
          "base_uri": "https://localhost:8080/"
        },
        "id": "Bfvj-TzWNHe9",
        "outputId": "6445b2fc-c382-411e-8b53-5526ea80b4b7"
      },
      "execution_count": 60,
      "outputs": [
        {
          "output_type": "execute_result",
          "data": {
            "text/plain": [
              "{'hello': 1,\n",
              " 'friend': 2,\n",
              " '!': 2,\n",
              " 'how': 2,\n",
              " 'are': 1,\n",
              " 'you': 1,\n",
              " 'doing': 1,\n",
              " 'my': 1,\n",
              " 'good': 1}"
            ]
          },
          "metadata": {},
          "execution_count": 60
        }
      ]
    },
    {
      "cell_type": "markdown",
      "source": [
        "###Question 10 – Check if Two Strings are Anagrams\n",
        "Write a function are_anagrams(s1, s2) that returns True if s1 and s2 are anagrams (contain the same letters with same frequency, ignoring case and spaces)."
      ],
      "metadata": {
        "id": "ZkW8B5sXQzzY"
      }
    },
    {
      "cell_type": "code",
      "source": [
        "def are_anagrams(s1, s2):\n",
        "    if not isinstance(s1, str) or not isinstance(s2, str):\n",
        "        return []\n",
        "    s1 = s1.lower().replace(\" \", \"\")\n",
        "    s2 = s2.lower().replace(\" \", \"\")\n",
        "    return sorted(s1) == sorted(s2)\n"
      ],
      "metadata": {
        "id": "41-f-wvdQ1Ar"
      },
      "execution_count": 56,
      "outputs": []
    },
    {
      "cell_type": "code",
      "source": [
        "are_anagrams(' listen',' silent')"
      ],
      "metadata": {
        "colab": {
          "base_uri": "https://localhost:8080/"
        },
        "id": "ksfUeACsRGca",
        "outputId": "4d24256a-3faa-44b3-e62c-e0205402809e"
      },
      "execution_count": 59,
      "outputs": [
        {
          "output_type": "execute_result",
          "data": {
            "text/plain": [
              "True"
            ]
          },
          "metadata": {},
          "execution_count": 59
        }
      ]
    },
    {
      "cell_type": "code",
      "source": [],
      "metadata": {
        "id": "SGLxG3xZS6ZF"
      },
      "execution_count": null,
      "outputs": []
    }
  ]
}